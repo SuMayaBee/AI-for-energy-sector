{
 "cells": [
  {
   "cell_type": "code",
   "execution_count": 1,
   "id": "e375add6",
   "metadata": {},
   "outputs": [],
   "source": [
    "import pandas as pd\n",
    "import numpy as np\n",
    "import matplotlib.pyplot as plt\n",
    "import seaborn as sns"
   ]
  },
  {
   "cell_type": "markdown",
   "id": "3c8ace64",
   "metadata": {},
   "source": [
    "## About this Dataset\n",
    "\n",
    "This data has been collected from two solar power plants in India over a 34-day period. It represents both power generation and weather data from two distinct plants. The power generation datasets are collected at the inverter level, with each inverter connected to multiple lines of solar panels. Weather data is gathered using sensors positioned at the plant level, utilizing a single array of sensors strategically placed within each plant.\n",
    "\n",
    "After a preliminary examination of both plant datasets, it is evident that the second plant's data exhibits a significant number of missing values, with up to 30% of the power generation data being incomplete. As a result, I have chosen to focus exclusively on the data from plant 1 for this study, which has a more manageable 5% rate of missing values."
   ]
  },
  {
   "cell_type": "markdown",
   "id": "b1974fa2",
   "metadata": {},
   "source": [
    "## Load and Clean data"
   ]
  },
  {
   "cell_type": "code",
   "execution_count": 2,
   "id": "0eceefba",
   "metadata": {},
   "outputs": [],
   "source": [
    "power_data = pd.read_csv(\"./Plant_1_Generation_Data.csv\")\n",
    "weather_data = pd.read_csv(\"./Plant_1_Weather_Sensor_Data.csv\")"
   ]
  },
  {
   "cell_type": "markdown",
   "id": "3fc67cef",
   "metadata": {},
   "source": [
    "### 1- Power generation data"
   ]
  },
  {
   "cell_type": "code",
   "execution_count": 3,
   "id": "c1885c81",
   "metadata": {},
   "outputs": [
    {
     "data": {
      "text/html": [
       "<div>\n",
       "<style scoped>\n",
       "    .dataframe tbody tr th:only-of-type {\n",
       "        vertical-align: middle;\n",
       "    }\n",
       "\n",
       "    .dataframe tbody tr th {\n",
       "        vertical-align: top;\n",
       "    }\n",
       "\n",
       "    .dataframe thead th {\n",
       "        text-align: right;\n",
       "    }\n",
       "</style>\n",
       "<table border=\"1\" class=\"dataframe\">\n",
       "  <thead>\n",
       "    <tr style=\"text-align: right;\">\n",
       "      <th></th>\n",
       "      <th>DATE_TIME</th>\n",
       "      <th>PLANT_ID</th>\n",
       "      <th>SOURCE_KEY</th>\n",
       "      <th>DC_POWER</th>\n",
       "      <th>AC_POWER</th>\n",
       "      <th>DAILY_YIELD</th>\n",
       "      <th>TOTAL_YIELD</th>\n",
       "    </tr>\n",
       "  </thead>\n",
       "  <tbody>\n",
       "    <tr>\n",
       "      <th>0</th>\n",
       "      <td>15-05-2020 00:00</td>\n",
       "      <td>4135001</td>\n",
       "      <td>1BY6WEcLGh8j5v7</td>\n",
       "      <td>0.0</td>\n",
       "      <td>0.0</td>\n",
       "      <td>0.0</td>\n",
       "      <td>6259559.0</td>\n",
       "    </tr>\n",
       "    <tr>\n",
       "      <th>1</th>\n",
       "      <td>15-05-2020 00:00</td>\n",
       "      <td>4135001</td>\n",
       "      <td>1IF53ai7Xc0U56Y</td>\n",
       "      <td>0.0</td>\n",
       "      <td>0.0</td>\n",
       "      <td>0.0</td>\n",
       "      <td>6183645.0</td>\n",
       "    </tr>\n",
       "    <tr>\n",
       "      <th>2</th>\n",
       "      <td>15-05-2020 00:00</td>\n",
       "      <td>4135001</td>\n",
       "      <td>3PZuoBAID5Wc2HD</td>\n",
       "      <td>0.0</td>\n",
       "      <td>0.0</td>\n",
       "      <td>0.0</td>\n",
       "      <td>6987759.0</td>\n",
       "    </tr>\n",
       "    <tr>\n",
       "      <th>3</th>\n",
       "      <td>15-05-2020 00:00</td>\n",
       "      <td>4135001</td>\n",
       "      <td>7JYdWkrLSPkdwr4</td>\n",
       "      <td>0.0</td>\n",
       "      <td>0.0</td>\n",
       "      <td>0.0</td>\n",
       "      <td>7602960.0</td>\n",
       "    </tr>\n",
       "    <tr>\n",
       "      <th>4</th>\n",
       "      <td>15-05-2020 00:00</td>\n",
       "      <td>4135001</td>\n",
       "      <td>McdE0feGgRqW7Ca</td>\n",
       "      <td>0.0</td>\n",
       "      <td>0.0</td>\n",
       "      <td>0.0</td>\n",
       "      <td>7158964.0</td>\n",
       "    </tr>\n",
       "  </tbody>\n",
       "</table>\n",
       "</div>"
      ],
      "text/plain": [
       "          DATE_TIME  PLANT_ID       SOURCE_KEY  DC_POWER  AC_POWER   \n",
       "0  15-05-2020 00:00   4135001  1BY6WEcLGh8j5v7       0.0       0.0  \\\n",
       "1  15-05-2020 00:00   4135001  1IF53ai7Xc0U56Y       0.0       0.0   \n",
       "2  15-05-2020 00:00   4135001  3PZuoBAID5Wc2HD       0.0       0.0   \n",
       "3  15-05-2020 00:00   4135001  7JYdWkrLSPkdwr4       0.0       0.0   \n",
       "4  15-05-2020 00:00   4135001  McdE0feGgRqW7Ca       0.0       0.0   \n",
       "\n",
       "   DAILY_YIELD  TOTAL_YIELD  \n",
       "0          0.0    6259559.0  \n",
       "1          0.0    6183645.0  \n",
       "2          0.0    6987759.0  \n",
       "3          0.0    7602960.0  \n",
       "4          0.0    7158964.0  "
      ]
     },
     "execution_count": 3,
     "metadata": {},
     "output_type": "execute_result"
    }
   ],
   "source": [
    "power_data.head()"
   ]
  },
  {
   "cell_type": "code",
   "execution_count": 4,
   "id": "73dc2d5f",
   "metadata": {},
   "outputs": [
    {
     "data": {
      "text/plain": [
       "(68778, 7)"
      ]
     },
     "execution_count": 4,
     "metadata": {},
     "output_type": "execute_result"
    }
   ],
   "source": [
    "power_data.shape"
   ]
  },
  {
   "cell_type": "code",
   "execution_count": 5,
   "id": "e755a169",
   "metadata": {},
   "outputs": [
    {
     "data": {
      "text/plain": [
       "DATE_TIME       object\n",
       "PLANT_ID         int64\n",
       "SOURCE_KEY      object\n",
       "DC_POWER       float64\n",
       "AC_POWER       float64\n",
       "DAILY_YIELD    float64\n",
       "TOTAL_YIELD    float64\n",
       "dtype: object"
      ]
     },
     "execution_count": 5,
     "metadata": {},
     "output_type": "execute_result"
    }
   ],
   "source": [
    "power_data.dtypes"
   ]
  },
  {
   "cell_type": "code",
   "execution_count": 6,
   "id": "f10157f1",
   "metadata": {},
   "outputs": [
    {
     "name": "stdout",
     "output_type": "stream",
     "text": [
      "feature 'PLANT_ID' count: 1\n"
     ]
    }
   ],
   "source": [
    "# the feature \"PLANT_ID\" seems to have the same value 4136001 and thus should be safely dropped\n",
    "print(\"feature 'PLANT_ID' count:\", len(power_data[\"PLANT_ID\"].unique()))\n",
    "power_data = power_data.drop([\"PLANT_ID\"], axis=1)"
   ]
  },
  {
   "cell_type": "code",
   "execution_count": 7,
   "id": "f366c72b",
   "metadata": {},
   "outputs": [
    {
     "name": "stdout",
     "output_type": "stream",
     "text": [
      "Plant inverter count: 22\n",
      "Plant inverters:\n",
      " ['1BY6WEcLGh8j5v7' '1IF53ai7Xc0U56Y' '3PZuoBAID5Wc2HD' '7JYdWkrLSPkdwr4'\n",
      " 'McdE0feGgRqW7Ca' 'VHMLBKoKgIrUVDU' 'WRmjgnKYAwPKWDb' 'ZnxXDlPa8U1GXgE'\n",
      " 'ZoEaEvLYb1n2sOq' 'adLQvlD726eNBSB' 'bvBOhCH3iADSZry' 'iCRJl6heRkivqQ3'\n",
      " 'ih0vzX44oOqAx2f' 'pkci93gMrogZuBj' 'rGa61gmuvPhdLxV' 'sjndEbLyjtCKgGv'\n",
      " 'uHbuxQJl8lW7ozc' 'wCURE6d3bPkepu2' 'z9Y9gH1T5YWrNuG' 'zBIq5rxdHJRwDNY'\n",
      " 'zVJPv84UY57bAof' 'YxYtjZvoooNbGkE']\n"
     ]
    }
   ],
   "source": [
    "# there are 22 inverters in this plant\n",
    "inverters = power_data[\"SOURCE_KEY\"].unique()\n",
    "print(f\"Plant inverter count: {len(inverters)}\")\n",
    "print(f\"Plant inverters:\\n {inverters}\")"
   ]
  },
  {
   "cell_type": "code",
   "execution_count": 8,
   "id": "5e546720",
   "metadata": {},
   "outputs": [],
   "source": [
    "# change the inverters names for simplicity\n",
    "power_data[\"INVERTER\"] = power_data[\"SOURCE_KEY\"].map({v: f'INV_{k}' for k, v in enumerate(inverters)})\n",
    "power_data = power_data.drop([\"SOURCE_KEY\"], axis=1)"
   ]
  },
  {
   "cell_type": "code",
   "execution_count": 9,
   "id": "1fb3ac8d",
   "metadata": {},
   "outputs": [
    {
     "data": {
      "text/plain": [
       "INVERTER\n",
       "INV_10    96.660539\n",
       "INV_0     96.629902\n",
       "INV_3     95.986520\n",
       "INV_5     95.986520\n",
       "INV_7     95.894608\n",
       "INV_12    95.894608\n",
       "INV_18    95.772059\n",
       "INV_17    95.772059\n",
       "INV_16    95.741422\n",
       "INV_13    95.741422\n",
       "INV_11    95.741422\n",
       "INV_14    95.710784\n",
       "INV_15    95.710784\n",
       "INV_4     95.710784\n",
       "INV_20    95.710784\n",
       "INV_8     95.680147\n",
       "INV_1     95.557598\n",
       "INV_9     95.557598\n",
       "INV_19    95.557598\n",
       "INV_6     95.526961\n",
       "INV_2     95.526961\n",
       "INV_21    95.098039\n",
       "Name: count, dtype: float64"
      ]
     },
     "execution_count": 9,
     "metadata": {},
     "output_type": "execute_result"
    }
   ],
   "source": [
    "# verify missing data for each inverter data\n",
    "expected_sample_per_inverter = 34*24*4 # (34days with a 15min sampling period) \n",
    "(power_data[\"INVERTER\"].value_counts() / expected_sample_per_inverter) * 100 "
   ]
  },
  {
   "cell_type": "markdown",
   "id": "5b30b446",
   "metadata": {},
   "source": [
    "It appears that all inverters have missing values, accounting for approximately 5% of the total data."
   ]
  },
  {
   "cell_type": "code",
   "execution_count": 10,
   "id": "1e79d7bd",
   "metadata": {},
   "outputs": [
    {
     "name": "stdout",
     "output_type": "stream",
     "text": [
      "Data datetime frequency : None\n"
     ]
    }
   ],
   "source": [
    "# Check if all datetimes are present using frequency\n",
    "power_data[\"DATE_TIME\"] = pd.to_datetime(power_data[\"DATE_TIME\"], format='%d-%m-%Y %H:%M')\n",
    "print(f\"Data datetime frequency : {power_data['DATE_TIME'].unique().freq}\")"
   ]
  },
  {
   "cell_type": "markdown",
   "id": "01b204a7",
   "metadata": {},
   "source": [
    "The absence of a returned frequency (None) indicates the presence of missing datetimes. To identify these gaps, we can compare the datetimes in the original dataset with a 15-min date range created for the same time period."
   ]
  },
  {
   "cell_type": "code",
   "execution_count": 11,
   "id": "e0a0cb9a",
   "metadata": {},
   "outputs": [
    {
     "name": "stdout",
     "output_type": "stream",
     "text": [
      "Missing datetimes: 106\n"
     ]
    }
   ],
   "source": [
    "# construct a 34 days with 15min intervals from data start-end dates \n",
    "datetimes = power_data[\"DATE_TIME\"]\n",
    "datetime_fullrange = pd.date_range(start=min(datetimes), end=max(datetimes), freq='15min')\n",
    "print(f\"Missing datetimes: {len(datetime_fullrange.difference(datetimes.unique()))}\")"
   ]
  },
  {
   "cell_type": "markdown",
   "id": "2fd1e546",
   "metadata": {},
   "source": [
    "### Filling out missing datetimes\n",
    "\n",
    "It's important to observe that the missing values identified above concerns to the entire dataset. Additionally, when we examined the missing values for individual inverters, we notice that some of them have a higher number of missing samples, indicating a greater number of missing dates.\n",
    "\n",
    "To address these gaps and complete the missing datetimes for each inverter, we need to separately reindex the datetimes for each inverter and subsequently merge them back together."
   ]
  },
  {
   "cell_type": "code",
   "execution_count": 12,
   "id": "b4d45a87",
   "metadata": {},
   "outputs": [],
   "source": [
    "fullrange = pd.Series(datetime_fullrange, name='DATE_TIME')\n",
    "\n",
    "data = []\n",
    "for inverter in power_data[\"INVERTER\"].unique():\n",
    "    df = power_data[power_data.INVERTER == inverter]\n",
    "    df = df.merge(fullrange, on='DATE_TIME', how='right')\n",
    "    df['INVERTER'] = inverter\n",
    "    data.append(df)\n",
    "power_df = pd.concat(data)"
   ]
  },
  {
   "cell_type": "code",
   "execution_count": 13,
   "id": "9bbd7487",
   "metadata": {},
   "outputs": [
    {
     "name": "stdout",
     "output_type": "stream",
     "text": [
      "<class 'pandas.core.frame.DataFrame'>\n",
      "Index: 71808 entries, 0 to 3263\n",
      "Data columns (total 6 columns):\n",
      " #   Column       Non-Null Count  Dtype         \n",
      "---  ------       --------------  -----         \n",
      " 0   DATE_TIME    71808 non-null  datetime64[ns]\n",
      " 1   DC_POWER     68778 non-null  float64       \n",
      " 2   AC_POWER     68778 non-null  float64       \n",
      " 3   DAILY_YIELD  68778 non-null  float64       \n",
      " 4   TOTAL_YIELD  68778 non-null  float64       \n",
      " 5   INVERTER     71808 non-null  object        \n",
      "dtypes: datetime64[ns](1), float64(4), object(1)\n",
      "memory usage: 3.8+ MB\n"
     ]
    }
   ],
   "source": [
    "# Check new data for missing values\n",
    "power_df.info()"
   ]
  },
  {
   "cell_type": "code",
   "execution_count": 14,
   "id": "f7ada880",
   "metadata": {},
   "outputs": [
    {
     "data": {
      "text/plain": [
       "DATE_TIME         0\n",
       "DC_POWER       3030\n",
       "AC_POWER       3030\n",
       "DAILY_YIELD    3030\n",
       "TOTAL_YIELD    3030\n",
       "INVERTER          0\n",
       "dtype: int64"
      ]
     },
     "execution_count": 14,
     "metadata": {},
     "output_type": "execute_result"
    }
   ],
   "source": [
    "# check for null values\n",
    "power_df.isna().sum()"
   ]
  },
  {
   "cell_type": "markdown",
   "id": "607ba09a",
   "metadata": {},
   "source": [
    "It is expected that the data now contains NaN values, which were introduced when we added all the missing timestamps for each inverter. To use this data, we must first address these missing values using one of the common filling methods: the use of previous/next item or interpolation.\n",
    "\n",
    "Since our data is not truly continuous due to solar panels not generating power and yield during nighttime, we will consider a forward-fill method in our study. However, it's important to note that this approach may introduce some inaccuracies, particularly when dealing with missing values at the transition between day and nighttime."
   ]
  },
  {
   "cell_type": "code",
   "execution_count": 15,
   "id": "c6f0f90a",
   "metadata": {},
   "outputs": [
    {
     "data": {
      "text/plain": [
       "DATE_TIME      0\n",
       "DC_POWER       0\n",
       "AC_POWER       0\n",
       "DAILY_YIELD    0\n",
       "TOTAL_YIELD    0\n",
       "INVERTER       0\n",
       "dtype: int64"
      ]
     },
     "execution_count": 15,
     "metadata": {},
     "output_type": "execute_result"
    }
   ],
   "source": [
    "power_df = power_df.fillna(method='ffill')\n",
    "power_df.isna().sum()"
   ]
  },
  {
   "cell_type": "markdown",
   "id": "f971a476",
   "metadata": {},
   "source": [
    "### 2- Weather data"
   ]
  },
  {
   "cell_type": "code",
   "execution_count": 16,
   "id": "add23e59",
   "metadata": {},
   "outputs": [
    {
     "data": {
      "text/html": [
       "<div>\n",
       "<style scoped>\n",
       "    .dataframe tbody tr th:only-of-type {\n",
       "        vertical-align: middle;\n",
       "    }\n",
       "\n",
       "    .dataframe tbody tr th {\n",
       "        vertical-align: top;\n",
       "    }\n",
       "\n",
       "    .dataframe thead th {\n",
       "        text-align: right;\n",
       "    }\n",
       "</style>\n",
       "<table border=\"1\" class=\"dataframe\">\n",
       "  <thead>\n",
       "    <tr style=\"text-align: right;\">\n",
       "      <th></th>\n",
       "      <th>DATE_TIME</th>\n",
       "      <th>PLANT_ID</th>\n",
       "      <th>SOURCE_KEY</th>\n",
       "      <th>AMBIENT_TEMPERATURE</th>\n",
       "      <th>MODULE_TEMPERATURE</th>\n",
       "      <th>IRRADIATION</th>\n",
       "    </tr>\n",
       "  </thead>\n",
       "  <tbody>\n",
       "    <tr>\n",
       "      <th>0</th>\n",
       "      <td>2020-05-15 00:00:00</td>\n",
       "      <td>4135001</td>\n",
       "      <td>HmiyD2TTLFNqkNe</td>\n",
       "      <td>25.184316</td>\n",
       "      <td>22.857507</td>\n",
       "      <td>0.0</td>\n",
       "    </tr>\n",
       "    <tr>\n",
       "      <th>1</th>\n",
       "      <td>2020-05-15 00:15:00</td>\n",
       "      <td>4135001</td>\n",
       "      <td>HmiyD2TTLFNqkNe</td>\n",
       "      <td>25.084589</td>\n",
       "      <td>22.761668</td>\n",
       "      <td>0.0</td>\n",
       "    </tr>\n",
       "    <tr>\n",
       "      <th>2</th>\n",
       "      <td>2020-05-15 00:30:00</td>\n",
       "      <td>4135001</td>\n",
       "      <td>HmiyD2TTLFNqkNe</td>\n",
       "      <td>24.935753</td>\n",
       "      <td>22.592306</td>\n",
       "      <td>0.0</td>\n",
       "    </tr>\n",
       "    <tr>\n",
       "      <th>3</th>\n",
       "      <td>2020-05-15 00:45:00</td>\n",
       "      <td>4135001</td>\n",
       "      <td>HmiyD2TTLFNqkNe</td>\n",
       "      <td>24.846130</td>\n",
       "      <td>22.360852</td>\n",
       "      <td>0.0</td>\n",
       "    </tr>\n",
       "    <tr>\n",
       "      <th>4</th>\n",
       "      <td>2020-05-15 01:00:00</td>\n",
       "      <td>4135001</td>\n",
       "      <td>HmiyD2TTLFNqkNe</td>\n",
       "      <td>24.621525</td>\n",
       "      <td>22.165423</td>\n",
       "      <td>0.0</td>\n",
       "    </tr>\n",
       "  </tbody>\n",
       "</table>\n",
       "</div>"
      ],
      "text/plain": [
       "             DATE_TIME  PLANT_ID       SOURCE_KEY  AMBIENT_TEMPERATURE   \n",
       "0  2020-05-15 00:00:00   4135001  HmiyD2TTLFNqkNe            25.184316  \\\n",
       "1  2020-05-15 00:15:00   4135001  HmiyD2TTLFNqkNe            25.084589   \n",
       "2  2020-05-15 00:30:00   4135001  HmiyD2TTLFNqkNe            24.935753   \n",
       "3  2020-05-15 00:45:00   4135001  HmiyD2TTLFNqkNe            24.846130   \n",
       "4  2020-05-15 01:00:00   4135001  HmiyD2TTLFNqkNe            24.621525   \n",
       "\n",
       "   MODULE_TEMPERATURE  IRRADIATION  \n",
       "0           22.857507          0.0  \n",
       "1           22.761668          0.0  \n",
       "2           22.592306          0.0  \n",
       "3           22.360852          0.0  \n",
       "4           22.165423          0.0  "
      ]
     },
     "execution_count": 16,
     "metadata": {},
     "output_type": "execute_result"
    }
   ],
   "source": [
    "weather_data.head()"
   ]
  },
  {
   "cell_type": "code",
   "execution_count": 17,
   "id": "6ef9bd35",
   "metadata": {},
   "outputs": [
    {
     "name": "stdout",
     "output_type": "stream",
     "text": [
      "feature 'PLANT_ID' count: 1\n",
      "feature 'SOURCE_KEY' count: 1\n"
     ]
    }
   ],
   "source": [
    "print(\"feature 'PLANT_ID' count:\", len(weather_data[\"PLANT_ID\"].unique()))\n",
    "print(\"feature 'SOURCE_KEY' count:\", len(weather_data[\"SOURCE_KEY\"].unique()))"
   ]
  },
  {
   "cell_type": "markdown",
   "id": "712013c4",
   "metadata": {},
   "source": [
    "Earlier, we mentioned that we can omit the 'PLANT_ID' feature since we're working with a single plant. Additionally, we can now exclude the inverter columns ('SOURCE_KEY' feature) from the data, this is because the weather data is collected at the location of one inverter, and we assume it to be consistent across all inverters, accurately representing the entire plant."
   ]
  },
  {
   "cell_type": "code",
   "execution_count": 18,
   "id": "c3006916",
   "metadata": {},
   "outputs": [],
   "source": [
    "weather_data = weather_data.drop([\"PLANT_ID\", \"SOURCE_KEY\"], axis=1)"
   ]
  },
  {
   "cell_type": "code",
   "execution_count": 19,
   "id": "0c1d4e1b",
   "metadata": {},
   "outputs": [
    {
     "data": {
      "text/plain": [
       "DATE_TIME              0\n",
       "AMBIENT_TEMPERATURE    0\n",
       "MODULE_TEMPERATURE     0\n",
       "IRRADIATION            0\n",
       "dtype: int64"
      ]
     },
     "execution_count": 19,
     "metadata": {},
     "output_type": "execute_result"
    }
   ],
   "source": [
    "# check if there are missing values\n",
    "weather_data.isna().sum()"
   ]
  },
  {
   "cell_type": "code",
   "execution_count": 20,
   "id": "3a50fdac",
   "metadata": {},
   "outputs": [
    {
     "name": "stdout",
     "output_type": "stream",
     "text": [
      "Data datetime frequency : None\n"
     ]
    }
   ],
   "source": [
    "# check if there are missing datetimes\n",
    "weather_data[\"DATE_TIME\"] = pd.to_datetime(weather_data[\"DATE_TIME\"], format='%Y-%m-%d %H:%M:%S')\n",
    "print(f\"Data datetime frequency : {weather_data['DATE_TIME'].unique().freq}\")"
   ]
  },
  {
   "cell_type": "code",
   "execution_count": 21,
   "id": "d0549172",
   "metadata": {},
   "outputs": [
    {
     "name": "stdout",
     "output_type": "stream",
     "text": [
      "Missing datetimes: 82\n"
     ]
    }
   ],
   "source": [
    "datetimes = weather_data[\"DATE_TIME\"]\n",
    "datetime_fullrange = pd.date_range(start=min(datetimes), end=max(datetimes), freq='15min')\n",
    "print(f\"Missing datetimes: {len(datetime_fullrange.difference(datetimes.unique()))}\")"
   ]
  },
  {
   "cell_type": "markdown",
   "id": "c6a22d24",
   "metadata": {},
   "source": [
    "### Filling out missing values\n",
    "\n",
    "No datetime frequency indicates that the weather data has also some missing timestamps, which we must add to be able to combine with the power generation data.\n",
    "\n",
    "After adding the missing date-times, we need to fill in all the null values introduced in the other features : 'AMBIENT_TEMPERATURE','MODULE_TEMPERATURE','IRRADIATION'. Since all of these features are continuous in nature, we will use interpolation."
   ]
  },
  {
   "cell_type": "code",
   "execution_count": 22,
   "id": "9c0e20bf",
   "metadata": {},
   "outputs": [],
   "source": [
    "cols = weather_data.columns\n",
    "weather_data = weather_data.set_index('DATE_TIME').reindex(datetime_fullrange).reset_index()\n",
    "weather_data.columns = cols"
   ]
  },
  {
   "cell_type": "code",
   "execution_count": 24,
   "id": "f865a993",
   "metadata": {},
   "outputs": [],
   "source": [
    "# Use interpolation to fill missing values\n",
    "weather_data['AMBIENT_TEMPERATURE'].interpolate(method='linear', inplace=True)\n",
    "weather_data['MODULE_TEMPERATURE'].interpolate(method='linear', inplace=True)\n",
    "weather_data['IRRADIATION'].interpolate(method='linear', inplace=True)"
   ]
  },
  {
   "cell_type": "code",
   "execution_count": 25,
   "id": "8f191125",
   "metadata": {},
   "outputs": [
    {
     "data": {
      "text/html": [
       "<div>\n",
       "<style scoped>\n",
       "    .dataframe tbody tr th:only-of-type {\n",
       "        vertical-align: middle;\n",
       "    }\n",
       "\n",
       "    .dataframe tbody tr th {\n",
       "        vertical-align: top;\n",
       "    }\n",
       "\n",
       "    .dataframe thead th {\n",
       "        text-align: right;\n",
       "    }\n",
       "</style>\n",
       "<table border=\"1\" class=\"dataframe\">\n",
       "  <thead>\n",
       "    <tr style=\"text-align: right;\">\n",
       "      <th></th>\n",
       "      <th>DATE_TIME</th>\n",
       "      <th>AMBIENT_TEMPERATURE</th>\n",
       "      <th>MODULE_TEMPERATURE</th>\n",
       "      <th>IRRADIATION</th>\n",
       "    </tr>\n",
       "  </thead>\n",
       "  <tbody>\n",
       "    <tr>\n",
       "      <th>0</th>\n",
       "      <td>2020-05-15 00:00:00</td>\n",
       "      <td>25.184316</td>\n",
       "      <td>22.857507</td>\n",
       "      <td>0.0</td>\n",
       "    </tr>\n",
       "    <tr>\n",
       "      <th>1</th>\n",
       "      <td>2020-05-15 00:15:00</td>\n",
       "      <td>25.084589</td>\n",
       "      <td>22.761668</td>\n",
       "      <td>0.0</td>\n",
       "    </tr>\n",
       "    <tr>\n",
       "      <th>2</th>\n",
       "      <td>2020-05-15 00:30:00</td>\n",
       "      <td>24.935753</td>\n",
       "      <td>22.592306</td>\n",
       "      <td>0.0</td>\n",
       "    </tr>\n",
       "    <tr>\n",
       "      <th>3</th>\n",
       "      <td>2020-05-15 00:45:00</td>\n",
       "      <td>24.846130</td>\n",
       "      <td>22.360852</td>\n",
       "      <td>0.0</td>\n",
       "    </tr>\n",
       "    <tr>\n",
       "      <th>4</th>\n",
       "      <td>2020-05-15 01:00:00</td>\n",
       "      <td>24.621525</td>\n",
       "      <td>22.165423</td>\n",
       "      <td>0.0</td>\n",
       "    </tr>\n",
       "    <tr>\n",
       "      <th>...</th>\n",
       "      <td>...</td>\n",
       "      <td>...</td>\n",
       "      <td>...</td>\n",
       "      <td>...</td>\n",
       "    </tr>\n",
       "    <tr>\n",
       "      <th>3259</th>\n",
       "      <td>2020-06-17 22:45:00</td>\n",
       "      <td>22.150570</td>\n",
       "      <td>21.480377</td>\n",
       "      <td>0.0</td>\n",
       "    </tr>\n",
       "    <tr>\n",
       "      <th>3260</th>\n",
       "      <td>2020-06-17 23:00:00</td>\n",
       "      <td>22.129816</td>\n",
       "      <td>21.389024</td>\n",
       "      <td>0.0</td>\n",
       "    </tr>\n",
       "    <tr>\n",
       "      <th>3261</th>\n",
       "      <td>2020-06-17 23:15:00</td>\n",
       "      <td>22.008275</td>\n",
       "      <td>20.709211</td>\n",
       "      <td>0.0</td>\n",
       "    </tr>\n",
       "    <tr>\n",
       "      <th>3262</th>\n",
       "      <td>2020-06-17 23:30:00</td>\n",
       "      <td>21.969495</td>\n",
       "      <td>20.734963</td>\n",
       "      <td>0.0</td>\n",
       "    </tr>\n",
       "    <tr>\n",
       "      <th>3263</th>\n",
       "      <td>2020-06-17 23:45:00</td>\n",
       "      <td>21.909288</td>\n",
       "      <td>20.427972</td>\n",
       "      <td>0.0</td>\n",
       "    </tr>\n",
       "  </tbody>\n",
       "</table>\n",
       "<p>3264 rows × 4 columns</p>\n",
       "</div>"
      ],
      "text/plain": [
       "               DATE_TIME  AMBIENT_TEMPERATURE  MODULE_TEMPERATURE  IRRADIATION\n",
       "0    2020-05-15 00:00:00            25.184316           22.857507          0.0\n",
       "1    2020-05-15 00:15:00            25.084589           22.761668          0.0\n",
       "2    2020-05-15 00:30:00            24.935753           22.592306          0.0\n",
       "3    2020-05-15 00:45:00            24.846130           22.360852          0.0\n",
       "4    2020-05-15 01:00:00            24.621525           22.165423          0.0\n",
       "...                  ...                  ...                 ...          ...\n",
       "3259 2020-06-17 22:45:00            22.150570           21.480377          0.0\n",
       "3260 2020-06-17 23:00:00            22.129816           21.389024          0.0\n",
       "3261 2020-06-17 23:15:00            22.008275           20.709211          0.0\n",
       "3262 2020-06-17 23:30:00            21.969495           20.734963          0.0\n",
       "3263 2020-06-17 23:45:00            21.909288           20.427972          0.0\n",
       "\n",
       "[3264 rows x 4 columns]"
      ]
     },
     "execution_count": 25,
     "metadata": {},
     "output_type": "execute_result"
    }
   ],
   "source": [
    "weather_data"
   ]
  },
  {
   "cell_type": "code",
   "execution_count": 26,
   "id": "342c3f43",
   "metadata": {},
   "outputs": [],
   "source": [
    "# augment weather data to account for multiple inverters\n",
    "weather_df = pd.concat([weather_data for i in range(len(inverters))])"
   ]
  },
  {
   "cell_type": "code",
   "execution_count": 27,
   "id": "eb272863",
   "metadata": {},
   "outputs": [],
   "source": [
    "# combine the power generation and weather dataframes\n",
    "data = pd.merge(power_df, weather_data, on=\"DATE_TIME\")"
   ]
  },
  {
   "cell_type": "code",
   "execution_count": 29,
   "id": "9166aad9",
   "metadata": {},
   "outputs": [
    {
     "data": {
      "text/html": [
       "<div>\n",
       "<style scoped>\n",
       "    .dataframe tbody tr th:only-of-type {\n",
       "        vertical-align: middle;\n",
       "    }\n",
       "\n",
       "    .dataframe tbody tr th {\n",
       "        vertical-align: top;\n",
       "    }\n",
       "\n",
       "    .dataframe thead th {\n",
       "        text-align: right;\n",
       "    }\n",
       "</style>\n",
       "<table border=\"1\" class=\"dataframe\">\n",
       "  <thead>\n",
       "    <tr style=\"text-align: right;\">\n",
       "      <th></th>\n",
       "      <th>DATE_TIME</th>\n",
       "      <th>DC_POWER</th>\n",
       "      <th>AC_POWER</th>\n",
       "      <th>DAILY_YIELD</th>\n",
       "      <th>TOTAL_YIELD</th>\n",
       "      <th>INVERTER</th>\n",
       "      <th>AMBIENT_TEMPERATURE</th>\n",
       "      <th>MODULE_TEMPERATURE</th>\n",
       "      <th>IRRADIATION</th>\n",
       "    </tr>\n",
       "  </thead>\n",
       "  <tbody>\n",
       "    <tr>\n",
       "      <th>0</th>\n",
       "      <td>2020-05-15 00:00:00</td>\n",
       "      <td>0.0</td>\n",
       "      <td>0.0</td>\n",
       "      <td>0.000</td>\n",
       "      <td>6259559.0</td>\n",
       "      <td>INV_0</td>\n",
       "      <td>25.184316</td>\n",
       "      <td>22.857507</td>\n",
       "      <td>0.0</td>\n",
       "    </tr>\n",
       "    <tr>\n",
       "      <th>1</th>\n",
       "      <td>2020-05-15 00:00:00</td>\n",
       "      <td>0.0</td>\n",
       "      <td>0.0</td>\n",
       "      <td>0.000</td>\n",
       "      <td>6183645.0</td>\n",
       "      <td>INV_1</td>\n",
       "      <td>25.184316</td>\n",
       "      <td>22.857507</td>\n",
       "      <td>0.0</td>\n",
       "    </tr>\n",
       "    <tr>\n",
       "      <th>2</th>\n",
       "      <td>2020-05-15 00:00:00</td>\n",
       "      <td>0.0</td>\n",
       "      <td>0.0</td>\n",
       "      <td>0.000</td>\n",
       "      <td>6987759.0</td>\n",
       "      <td>INV_2</td>\n",
       "      <td>25.184316</td>\n",
       "      <td>22.857507</td>\n",
       "      <td>0.0</td>\n",
       "    </tr>\n",
       "    <tr>\n",
       "      <th>3</th>\n",
       "      <td>2020-05-15 00:00:00</td>\n",
       "      <td>0.0</td>\n",
       "      <td>0.0</td>\n",
       "      <td>0.000</td>\n",
       "      <td>7602960.0</td>\n",
       "      <td>INV_3</td>\n",
       "      <td>25.184316</td>\n",
       "      <td>22.857507</td>\n",
       "      <td>0.0</td>\n",
       "    </tr>\n",
       "    <tr>\n",
       "      <th>4</th>\n",
       "      <td>2020-05-15 00:00:00</td>\n",
       "      <td>0.0</td>\n",
       "      <td>0.0</td>\n",
       "      <td>0.000</td>\n",
       "      <td>7158964.0</td>\n",
       "      <td>INV_4</td>\n",
       "      <td>25.184316</td>\n",
       "      <td>22.857507</td>\n",
       "      <td>0.0</td>\n",
       "    </tr>\n",
       "    <tr>\n",
       "      <th>...</th>\n",
       "      <td>...</td>\n",
       "      <td>...</td>\n",
       "      <td>...</td>\n",
       "      <td>...</td>\n",
       "      <td>...</td>\n",
       "      <td>...</td>\n",
       "      <td>...</td>\n",
       "      <td>...</td>\n",
       "      <td>...</td>\n",
       "    </tr>\n",
       "    <tr>\n",
       "      <th>71803</th>\n",
       "      <td>2020-06-17 23:45:00</td>\n",
       "      <td>0.0</td>\n",
       "      <td>0.0</td>\n",
       "      <td>5147.625</td>\n",
       "      <td>7028601.0</td>\n",
       "      <td>INV_17</td>\n",
       "      <td>21.909288</td>\n",
       "      <td>20.427972</td>\n",
       "      <td>0.0</td>\n",
       "    </tr>\n",
       "    <tr>\n",
       "      <th>71804</th>\n",
       "      <td>2020-06-17 23:45:00</td>\n",
       "      <td>0.0</td>\n",
       "      <td>0.0</td>\n",
       "      <td>5819.000</td>\n",
       "      <td>7251204.0</td>\n",
       "      <td>INV_18</td>\n",
       "      <td>21.909288</td>\n",
       "      <td>20.427972</td>\n",
       "      <td>0.0</td>\n",
       "    </tr>\n",
       "    <tr>\n",
       "      <th>71805</th>\n",
       "      <td>2020-06-17 23:45:00</td>\n",
       "      <td>0.0</td>\n",
       "      <td>0.0</td>\n",
       "      <td>5817.000</td>\n",
       "      <td>6583369.0</td>\n",
       "      <td>INV_19</td>\n",
       "      <td>21.909288</td>\n",
       "      <td>20.427972</td>\n",
       "      <td>0.0</td>\n",
       "    </tr>\n",
       "    <tr>\n",
       "      <th>71806</th>\n",
       "      <td>2020-06-17 23:45:00</td>\n",
       "      <td>0.0</td>\n",
       "      <td>0.0</td>\n",
       "      <td>5910.000</td>\n",
       "      <td>7363272.0</td>\n",
       "      <td>INV_20</td>\n",
       "      <td>21.909288</td>\n",
       "      <td>20.427972</td>\n",
       "      <td>0.0</td>\n",
       "    </tr>\n",
       "    <tr>\n",
       "      <th>71807</th>\n",
       "      <td>2020-06-17 23:45:00</td>\n",
       "      <td>0.0</td>\n",
       "      <td>0.0</td>\n",
       "      <td>5886.000</td>\n",
       "      <td>7425442.0</td>\n",
       "      <td>INV_21</td>\n",
       "      <td>21.909288</td>\n",
       "      <td>20.427972</td>\n",
       "      <td>0.0</td>\n",
       "    </tr>\n",
       "  </tbody>\n",
       "</table>\n",
       "<p>71808 rows × 9 columns</p>\n",
       "</div>"
      ],
      "text/plain": [
       "                DATE_TIME  DC_POWER  AC_POWER  DAILY_YIELD  TOTAL_YIELD   \n",
       "0     2020-05-15 00:00:00       0.0       0.0        0.000    6259559.0  \\\n",
       "1     2020-05-15 00:00:00       0.0       0.0        0.000    6183645.0   \n",
       "2     2020-05-15 00:00:00       0.0       0.0        0.000    6987759.0   \n",
       "3     2020-05-15 00:00:00       0.0       0.0        0.000    7602960.0   \n",
       "4     2020-05-15 00:00:00       0.0       0.0        0.000    7158964.0   \n",
       "...                   ...       ...       ...          ...          ...   \n",
       "71803 2020-06-17 23:45:00       0.0       0.0     5147.625    7028601.0   \n",
       "71804 2020-06-17 23:45:00       0.0       0.0     5819.000    7251204.0   \n",
       "71805 2020-06-17 23:45:00       0.0       0.0     5817.000    6583369.0   \n",
       "71806 2020-06-17 23:45:00       0.0       0.0     5910.000    7363272.0   \n",
       "71807 2020-06-17 23:45:00       0.0       0.0     5886.000    7425442.0   \n",
       "\n",
       "      INVERTER  AMBIENT_TEMPERATURE  MODULE_TEMPERATURE  IRRADIATION  \n",
       "0        INV_0            25.184316           22.857507          0.0  \n",
       "1        INV_1            25.184316           22.857507          0.0  \n",
       "2        INV_2            25.184316           22.857507          0.0  \n",
       "3        INV_3            25.184316           22.857507          0.0  \n",
       "4        INV_4            25.184316           22.857507          0.0  \n",
       "...        ...                  ...                 ...          ...  \n",
       "71803   INV_17            21.909288           20.427972          0.0  \n",
       "71804   INV_18            21.909288           20.427972          0.0  \n",
       "71805   INV_19            21.909288           20.427972          0.0  \n",
       "71806   INV_20            21.909288           20.427972          0.0  \n",
       "71807   INV_21            21.909288           20.427972          0.0  \n",
       "\n",
       "[71808 rows x 9 columns]"
      ]
     },
     "execution_count": 29,
     "metadata": {},
     "output_type": "execute_result"
    }
   ],
   "source": [
    "data"
   ]
  },
  {
   "cell_type": "markdown",
   "id": "c2d39862",
   "metadata": {},
   "source": [
    "## Exploratory data analysis"
   ]
  },
  {
   "cell_type": "code",
   "execution_count": null,
   "id": "f164b892",
   "metadata": {},
   "outputs": [],
   "source": []
  }
 ],
 "metadata": {
  "kernelspec": {
   "display_name": "Python 3 (ipykernel)",
   "language": "python",
   "name": "python3"
  },
  "language_info": {
   "codemirror_mode": {
    "name": "ipython",
    "version": 3
   },
   "file_extension": ".py",
   "mimetype": "text/x-python",
   "name": "python",
   "nbconvert_exporter": "python",
   "pygments_lexer": "ipython3",
   "version": "3.9.6"
  }
 },
 "nbformat": 4,
 "nbformat_minor": 5
}
