{
 "cells": [
  {
   "cell_type": "markdown",
   "id": "64191a9d",
   "metadata": {},
   "source": [
    "## Introduction\n",
    "\n",
    "\n",
    "## About dataset"
   ]
  },
  {
   "cell_type": "code",
   "execution_count": 1,
   "id": "b00eeb11",
   "metadata": {},
   "outputs": [],
   "source": [
    "import pandas as pd\n",
    "import numpy as np\n",
    "import matplotlib.pyplot as plt\n",
    "import seaborn as sns"
   ]
  },
  {
   "cell_type": "code",
   "execution_count": 2,
   "id": "3d7af590",
   "metadata": {},
   "outputs": [
    {
     "name": "stdout",
     "output_type": "stream",
     "text": [
      "\u001b[31mfault_data.csv\u001b[m\u001b[m*  \u001b[31mscada_data.csv\u001b[m\u001b[m*  \u001b[31mstatus_data.csv\u001b[m\u001b[m*\r\n"
     ]
    }
   ],
   "source": [
    "ls ./wind_turbine/"
   ]
  },
  {
   "cell_type": "code",
   "execution_count": 3,
   "id": "b5a8fc72",
   "metadata": {},
   "outputs": [],
   "source": [
    "fault_data = pd.read_csv(\"./wind_turbine/fault_data.csv\", parse_dates=[\"DateTime\"], index_col=\"DateTime\")\n",
    "scada_data = pd.read_csv(\"./wind_turbine/scada_data.csv\", parse_dates=[\"DateTime\"], index_col=\"DateTime\")\n",
    "status_data = pd.read_csv(\"./wind_turbine/status_data.csv\", parse_dates=[\"Time\"], dayfirst=True, index_col=\"Time\")"
   ]
  },
  {
   "cell_type": "code",
   "execution_count": 4,
   "id": "4ba444f7",
   "metadata": {},
   "outputs": [
    {
     "data": {
      "text/html": [
       "<div>\n",
       "<style scoped>\n",
       "    .dataframe tbody tr th:only-of-type {\n",
       "        vertical-align: middle;\n",
       "    }\n",
       "\n",
       "    .dataframe tbody tr th {\n",
       "        vertical-align: top;\n",
       "    }\n",
       "\n",
       "    .dataframe thead th {\n",
       "        text-align: right;\n",
       "    }\n",
       "</style>\n",
       "<table border=\"1\" class=\"dataframe\">\n",
       "  <thead>\n",
       "    <tr style=\"text-align: right;\">\n",
       "      <th></th>\n",
       "      <th>Time</th>\n",
       "      <th>Fault</th>\n",
       "    </tr>\n",
       "    <tr>\n",
       "      <th>DateTime</th>\n",
       "      <th></th>\n",
       "      <th></th>\n",
       "    </tr>\n",
       "  </thead>\n",
       "  <tbody>\n",
       "    <tr>\n",
       "      <th>2014-05-14 14:39:44</th>\n",
       "      <td>1.400096e+09</td>\n",
       "      <td>GF</td>\n",
       "    </tr>\n",
       "    <tr>\n",
       "      <th>2014-05-14 14:50:24</th>\n",
       "      <td>1.400097e+09</td>\n",
       "      <td>GF</td>\n",
       "    </tr>\n",
       "    <tr>\n",
       "      <th>2014-05-14 14:58:56</th>\n",
       "      <td>1.400098e+09</td>\n",
       "      <td>GF</td>\n",
       "    </tr>\n",
       "    <tr>\n",
       "      <th>2014-05-14 15:09:36</th>\n",
       "      <td>1.400098e+09</td>\n",
       "      <td>GF</td>\n",
       "    </tr>\n",
       "    <tr>\n",
       "      <th>2014-05-14 15:20:16</th>\n",
       "      <td>1.400099e+09</td>\n",
       "      <td>GF</td>\n",
       "    </tr>\n",
       "  </tbody>\n",
       "</table>\n",
       "</div>"
      ],
      "text/plain": [
       "                             Time Fault\n",
       "DateTime                               \n",
       "2014-05-14 14:39:44  1.400096e+09    GF\n",
       "2014-05-14 14:50:24  1.400097e+09    GF\n",
       "2014-05-14 14:58:56  1.400098e+09    GF\n",
       "2014-05-14 15:09:36  1.400098e+09    GF\n",
       "2014-05-14 15:20:16  1.400099e+09    GF"
      ]
     },
     "execution_count": 4,
     "metadata": {},
     "output_type": "execute_result"
    }
   ],
   "source": [
    "fault_data.head()"
   ]
  },
  {
   "cell_type": "code",
   "execution_count": 5,
   "id": "5670518e",
   "metadata": {},
   "outputs": [
    {
     "data": {
      "text/html": [
       "<div>\n",
       "<style scoped>\n",
       "    .dataframe tbody tr th:only-of-type {\n",
       "        vertical-align: middle;\n",
       "    }\n",
       "\n",
       "    .dataframe tbody tr th {\n",
       "        vertical-align: top;\n",
       "    }\n",
       "\n",
       "    .dataframe thead th {\n",
       "        text-align: right;\n",
       "    }\n",
       "</style>\n",
       "<table border=\"1\" class=\"dataframe\">\n",
       "  <thead>\n",
       "    <tr style=\"text-align: right;\">\n",
       "      <th></th>\n",
       "      <th>Time</th>\n",
       "      <th>Error</th>\n",
       "      <th>WEC: ava. windspeed</th>\n",
       "      <th>WEC: max. windspeed</th>\n",
       "      <th>WEC: min. windspeed</th>\n",
       "      <th>WEC: ava. Rotation</th>\n",
       "      <th>WEC: max. Rotation</th>\n",
       "      <th>WEC: min. Rotation</th>\n",
       "      <th>WEC: ava. Power</th>\n",
       "      <th>WEC: max. Power</th>\n",
       "      <th>...</th>\n",
       "      <th>Rectifier cabinet temp.</th>\n",
       "      <th>Yaw inverter cabinet temp.</th>\n",
       "      <th>Fan inverter cabinet temp.</th>\n",
       "      <th>Ambient temp.</th>\n",
       "      <th>Tower temp.</th>\n",
       "      <th>Control cabinet temp.</th>\n",
       "      <th>Transformer temp.</th>\n",
       "      <th>RTU: ava. Setpoint 1</th>\n",
       "      <th>Inverter averages</th>\n",
       "      <th>Inverter std dev</th>\n",
       "    </tr>\n",
       "    <tr>\n",
       "      <th>DateTime</th>\n",
       "      <th></th>\n",
       "      <th></th>\n",
       "      <th></th>\n",
       "      <th></th>\n",
       "      <th></th>\n",
       "      <th></th>\n",
       "      <th></th>\n",
       "      <th></th>\n",
       "      <th></th>\n",
       "      <th></th>\n",
       "      <th></th>\n",
       "      <th></th>\n",
       "      <th></th>\n",
       "      <th></th>\n",
       "      <th></th>\n",
       "      <th></th>\n",
       "      <th></th>\n",
       "      <th></th>\n",
       "      <th></th>\n",
       "      <th></th>\n",
       "      <th></th>\n",
       "    </tr>\n",
       "  </thead>\n",
       "  <tbody>\n",
       "    <tr>\n",
       "      <th>2014-05-01 00:00:00</th>\n",
       "      <td>1398920448</td>\n",
       "      <td>0</td>\n",
       "      <td>6.9</td>\n",
       "      <td>9.4</td>\n",
       "      <td>2.9</td>\n",
       "      <td>0.0</td>\n",
       "      <td>0.02</td>\n",
       "      <td>0.0</td>\n",
       "      <td>0</td>\n",
       "      <td>0</td>\n",
       "      <td>...</td>\n",
       "      <td>24</td>\n",
       "      <td>20</td>\n",
       "      <td>25</td>\n",
       "      <td>12</td>\n",
       "      <td>14</td>\n",
       "      <td>24</td>\n",
       "      <td>34</td>\n",
       "      <td>2501</td>\n",
       "      <td>25.272728</td>\n",
       "      <td>1.103713</td>\n",
       "    </tr>\n",
       "    <tr>\n",
       "      <th>2014-05-01 00:09:00</th>\n",
       "      <td>1398920960</td>\n",
       "      <td>0</td>\n",
       "      <td>5.3</td>\n",
       "      <td>8.9</td>\n",
       "      <td>1.6</td>\n",
       "      <td>0.0</td>\n",
       "      <td>0.01</td>\n",
       "      <td>0.0</td>\n",
       "      <td>0</td>\n",
       "      <td>0</td>\n",
       "      <td>...</td>\n",
       "      <td>24</td>\n",
       "      <td>20</td>\n",
       "      <td>25</td>\n",
       "      <td>12</td>\n",
       "      <td>14</td>\n",
       "      <td>24</td>\n",
       "      <td>34</td>\n",
       "      <td>2501</td>\n",
       "      <td>25.272728</td>\n",
       "      <td>1.103713</td>\n",
       "    </tr>\n",
       "    <tr>\n",
       "      <th>2014-05-01 00:20:00</th>\n",
       "      <td>1398921600</td>\n",
       "      <td>0</td>\n",
       "      <td>5.0</td>\n",
       "      <td>9.5</td>\n",
       "      <td>1.4</td>\n",
       "      <td>0.0</td>\n",
       "      <td>0.04</td>\n",
       "      <td>0.0</td>\n",
       "      <td>0</td>\n",
       "      <td>0</td>\n",
       "      <td>...</td>\n",
       "      <td>24</td>\n",
       "      <td>20</td>\n",
       "      <td>25</td>\n",
       "      <td>12</td>\n",
       "      <td>14</td>\n",
       "      <td>24</td>\n",
       "      <td>34</td>\n",
       "      <td>2501</td>\n",
       "      <td>25.272728</td>\n",
       "      <td>1.103713</td>\n",
       "    </tr>\n",
       "    <tr>\n",
       "      <th>2014-05-01 00:30:00</th>\n",
       "      <td>1398922240</td>\n",
       "      <td>0</td>\n",
       "      <td>4.4</td>\n",
       "      <td>8.3</td>\n",
       "      <td>1.3</td>\n",
       "      <td>0.0</td>\n",
       "      <td>0.08</td>\n",
       "      <td>0.0</td>\n",
       "      <td>0</td>\n",
       "      <td>0</td>\n",
       "      <td>...</td>\n",
       "      <td>23</td>\n",
       "      <td>21</td>\n",
       "      <td>25</td>\n",
       "      <td>12</td>\n",
       "      <td>14</td>\n",
       "      <td>24</td>\n",
       "      <td>34</td>\n",
       "      <td>2501</td>\n",
       "      <td>25.272728</td>\n",
       "      <td>1.103713</td>\n",
       "    </tr>\n",
       "    <tr>\n",
       "      <th>2014-05-01 00:39:00</th>\n",
       "      <td>1398922752</td>\n",
       "      <td>0</td>\n",
       "      <td>5.7</td>\n",
       "      <td>9.7</td>\n",
       "      <td>1.2</td>\n",
       "      <td>0.0</td>\n",
       "      <td>0.05</td>\n",
       "      <td>0.0</td>\n",
       "      <td>0</td>\n",
       "      <td>0</td>\n",
       "      <td>...</td>\n",
       "      <td>23</td>\n",
       "      <td>21</td>\n",
       "      <td>25</td>\n",
       "      <td>12</td>\n",
       "      <td>14</td>\n",
       "      <td>23</td>\n",
       "      <td>34</td>\n",
       "      <td>2501</td>\n",
       "      <td>25.272728</td>\n",
       "      <td>1.103713</td>\n",
       "    </tr>\n",
       "  </tbody>\n",
       "</table>\n",
       "<p>5 rows × 65 columns</p>\n",
       "</div>"
      ],
      "text/plain": [
       "                           Time  Error  WEC: ava. windspeed   \n",
       "DateTime                                                      \n",
       "2014-05-01 00:00:00  1398920448      0                  6.9  \\\n",
       "2014-05-01 00:09:00  1398920960      0                  5.3   \n",
       "2014-05-01 00:20:00  1398921600      0                  5.0   \n",
       "2014-05-01 00:30:00  1398922240      0                  4.4   \n",
       "2014-05-01 00:39:00  1398922752      0                  5.7   \n",
       "\n",
       "                     WEC: max. windspeed  WEC: min. windspeed   \n",
       "DateTime                                                        \n",
       "2014-05-01 00:00:00                  9.4                  2.9  \\\n",
       "2014-05-01 00:09:00                  8.9                  1.6   \n",
       "2014-05-01 00:20:00                  9.5                  1.4   \n",
       "2014-05-01 00:30:00                  8.3                  1.3   \n",
       "2014-05-01 00:39:00                  9.7                  1.2   \n",
       "\n",
       "                     WEC: ava. Rotation  WEC: max. Rotation   \n",
       "DateTime                                                      \n",
       "2014-05-01 00:00:00                 0.0                0.02  \\\n",
       "2014-05-01 00:09:00                 0.0                0.01   \n",
       "2014-05-01 00:20:00                 0.0                0.04   \n",
       "2014-05-01 00:30:00                 0.0                0.08   \n",
       "2014-05-01 00:39:00                 0.0                0.05   \n",
       "\n",
       "                     WEC: min. Rotation  WEC: ava. Power  WEC: max. Power   \n",
       "DateTime                                                                    \n",
       "2014-05-01 00:00:00                 0.0                0                0  \\\n",
       "2014-05-01 00:09:00                 0.0                0                0   \n",
       "2014-05-01 00:20:00                 0.0                0                0   \n",
       "2014-05-01 00:30:00                 0.0                0                0   \n",
       "2014-05-01 00:39:00                 0.0                0                0   \n",
       "\n",
       "                     ...  Rectifier cabinet temp.  Yaw inverter cabinet temp.   \n",
       "DateTime             ...                                                        \n",
       "2014-05-01 00:00:00  ...                       24                          20  \\\n",
       "2014-05-01 00:09:00  ...                       24                          20   \n",
       "2014-05-01 00:20:00  ...                       24                          20   \n",
       "2014-05-01 00:30:00  ...                       23                          21   \n",
       "2014-05-01 00:39:00  ...                       23                          21   \n",
       "\n",
       "                     Fan inverter cabinet temp.  Ambient temp.  Tower temp.   \n",
       "DateTime                                                                      \n",
       "2014-05-01 00:00:00                          25             12           14  \\\n",
       "2014-05-01 00:09:00                          25             12           14   \n",
       "2014-05-01 00:20:00                          25             12           14   \n",
       "2014-05-01 00:30:00                          25             12           14   \n",
       "2014-05-01 00:39:00                          25             12           14   \n",
       "\n",
       "                     Control cabinet temp.  Transformer temp.   \n",
       "DateTime                                                        \n",
       "2014-05-01 00:00:00                     24                 34  \\\n",
       "2014-05-01 00:09:00                     24                 34   \n",
       "2014-05-01 00:20:00                     24                 34   \n",
       "2014-05-01 00:30:00                     24                 34   \n",
       "2014-05-01 00:39:00                     23                 34   \n",
       "\n",
       "                     RTU: ava. Setpoint 1  Inverter averages  Inverter std dev  \n",
       "DateTime                                                                        \n",
       "2014-05-01 00:00:00                  2501          25.272728          1.103713  \n",
       "2014-05-01 00:09:00                  2501          25.272728          1.103713  \n",
       "2014-05-01 00:20:00                  2501          25.272728          1.103713  \n",
       "2014-05-01 00:30:00                  2501          25.272728          1.103713  \n",
       "2014-05-01 00:39:00                  2501          25.272728          1.103713  \n",
       "\n",
       "[5 rows x 65 columns]"
      ]
     },
     "execution_count": 5,
     "metadata": {},
     "output_type": "execute_result"
    }
   ],
   "source": [
    "scada_data.head()"
   ]
  },
  {
   "cell_type": "code",
   "execution_count": 6,
   "id": "61b704a5",
   "metadata": {},
   "outputs": [
    {
     "data": {
      "text/html": [
       "<div>\n",
       "<style scoped>\n",
       "    .dataframe tbody tr th:only-of-type {\n",
       "        vertical-align: middle;\n",
       "    }\n",
       "\n",
       "    .dataframe tbody tr th {\n",
       "        vertical-align: top;\n",
       "    }\n",
       "\n",
       "    .dataframe thead th {\n",
       "        text-align: right;\n",
       "    }\n",
       "</style>\n",
       "<table border=\"1\" class=\"dataframe\">\n",
       "  <thead>\n",
       "    <tr style=\"text-align: right;\">\n",
       "      <th></th>\n",
       "      <th>Main Status</th>\n",
       "      <th>Sub Status</th>\n",
       "      <th>Full Status</th>\n",
       "      <th>Status Text</th>\n",
       "      <th>T</th>\n",
       "      <th>Service</th>\n",
       "      <th>FaultMsg</th>\n",
       "      <th>Value0</th>\n",
       "    </tr>\n",
       "    <tr>\n",
       "      <th>Time</th>\n",
       "      <th></th>\n",
       "      <th></th>\n",
       "      <th></th>\n",
       "      <th></th>\n",
       "      <th></th>\n",
       "      <th></th>\n",
       "      <th></th>\n",
       "      <th></th>\n",
       "    </tr>\n",
       "  </thead>\n",
       "  <tbody>\n",
       "    <tr>\n",
       "      <th>2014-04-24 12:37:38</th>\n",
       "      <td>0</td>\n",
       "      <td>0</td>\n",
       "      <td>0 : 0</td>\n",
       "      <td>Turbine in operation</td>\n",
       "      <td>1</td>\n",
       "      <td>False</td>\n",
       "      <td>False</td>\n",
       "      <td>7.4</td>\n",
       "    </tr>\n",
       "    <tr>\n",
       "      <th>2014-04-25 19:27:24</th>\n",
       "      <td>71</td>\n",
       "      <td>104</td>\n",
       "      <td>71 : 104</td>\n",
       "      <td>Insulation monitoring : Insulation fault Phase U2</td>\n",
       "      <td>6</td>\n",
       "      <td>False</td>\n",
       "      <td>True</td>\n",
       "      <td>20.5</td>\n",
       "    </tr>\n",
       "    <tr>\n",
       "      <th>2014-04-26 09:30:13</th>\n",
       "      <td>8</td>\n",
       "      <td>0</td>\n",
       "      <td>8 : 0</td>\n",
       "      <td>Maintenance</td>\n",
       "      <td>6</td>\n",
       "      <td>True</td>\n",
       "      <td>False</td>\n",
       "      <td>17.1</td>\n",
       "    </tr>\n",
       "    <tr>\n",
       "      <th>2014-04-26 10:05:19</th>\n",
       "      <td>8</td>\n",
       "      <td>0</td>\n",
       "      <td>8 : 0</td>\n",
       "      <td>Maintenance</td>\n",
       "      <td>6</td>\n",
       "      <td>False</td>\n",
       "      <td>False</td>\n",
       "      <td>8.7</td>\n",
       "    </tr>\n",
       "    <tr>\n",
       "      <th>2014-04-26 10:05:25</th>\n",
       "      <td>8</td>\n",
       "      <td>0</td>\n",
       "      <td>8 : 0</td>\n",
       "      <td>Maintenance</td>\n",
       "      <td>6</td>\n",
       "      <td>True</td>\n",
       "      <td>False</td>\n",
       "      <td>10.6</td>\n",
       "    </tr>\n",
       "  </tbody>\n",
       "</table>\n",
       "</div>"
      ],
      "text/plain": [
       "                     Main Status  Sub Status Full Status   \n",
       "Time                                                       \n",
       "2014-04-24 12:37:38            0           0       0 : 0  \\\n",
       "2014-04-25 19:27:24           71         104    71 : 104   \n",
       "2014-04-26 09:30:13            8           0       8 : 0   \n",
       "2014-04-26 10:05:19            8           0       8 : 0   \n",
       "2014-04-26 10:05:25            8           0       8 : 0   \n",
       "\n",
       "                                                           Status Text  T   \n",
       "Time                                                                        \n",
       "2014-04-24 12:37:38                               Turbine in operation  1  \\\n",
       "2014-04-25 19:27:24  Insulation monitoring : Insulation fault Phase U2  6   \n",
       "2014-04-26 09:30:13                                        Maintenance  6   \n",
       "2014-04-26 10:05:19                                        Maintenance  6   \n",
       "2014-04-26 10:05:25                                        Maintenance  6   \n",
       "\n",
       "                     Service  FaultMsg  Value0  \n",
       "Time                                            \n",
       "2014-04-24 12:37:38    False     False     7.4  \n",
       "2014-04-25 19:27:24    False      True    20.5  \n",
       "2014-04-26 09:30:13     True     False    17.1  \n",
       "2014-04-26 10:05:19    False     False     8.7  \n",
       "2014-04-26 10:05:25     True     False    10.6  "
      ]
     },
     "execution_count": 6,
     "metadata": {},
     "output_type": "execute_result"
    }
   ],
   "source": [
    "status_data.head()"
   ]
  },
  {
   "cell_type": "code",
   "execution_count": 7,
   "id": "448cf827",
   "metadata": {},
   "outputs": [
    {
     "name": "stdout",
     "output_type": "stream",
     "text": [
      "Fault data shape: (553, 2)\n",
      "SCADA data shape: (49027, 65)\n",
      "Status data shape: (1849, 8)\n"
     ]
    }
   ],
   "source": [
    "# check datasets sizes\n",
    "print(\"Fault data shape:\", fault_data.shape)\n",
    "print(\"SCADA data shape:\", scada_data.shape)\n",
    "print(\"Status data shape:\", status_data.shape)"
   ]
  },
  {
   "cell_type": "markdown",
   "id": "8dc0c583",
   "metadata": {},
   "source": [
    "#### Observation\n",
    "\n",
    "The fault and status data contains less samples than the total SCADA data because they only include timestamps when a failure actually occured in the wind turbine, so we need to consider that we combining the fault features into the SCADA data."
   ]
  },
  {
   "cell_type": "code",
   "execution_count": 8,
   "id": "e8934794",
   "metadata": {},
   "outputs": [
    {
     "name": "stdout",
     "output_type": "stream",
     "text": [
      "Fault data datetime range from 2014-05-14 14:39:44 to 2015-01-15 23:09:20\n",
      "SCADA data datetime range from 2014-05-01 00:00:00 to 2015-04-09 00:00:00\n",
      "Status data datetime range from 2014-04-24 12:37:38 to 2015-04-28 22:18:19\n"
     ]
    }
   ],
   "source": [
    "# check datasets datetime ranges\n",
    "print(f\"Fault data datetime range from {fault_data.index[0]} to {fault_data.index[-1]}\")\n",
    "print(f\"SCADA data datetime range from {scada_data.index[0]} to {scada_data.index[-1]}\")\n",
    "print(f\"Status data datetime range from {status_data.index[0]} to {status_data.index[-1]}\")"
   ]
  },
  {
   "cell_type": "markdown",
   "id": "aa587eae",
   "metadata": {},
   "source": [
    "#### Observation\n",
    "\n",
    "The status data is recorded on a larger datetime range compared to the SCADA data, so to combine the status values with the scada and fault datasets we will be forced to drop some of the additional status record that aren't presents in the two other datasets and thus our study datetime range will be from 2014-05-01 00:00:00 to 2015-04-09 00:00:00."
   ]
  },
  {
   "cell_type": "code",
   "execution_count": 9,
   "id": "802594f3",
   "metadata": {},
   "outputs": [
    {
     "name": "stdout",
     "output_type": "stream",
     "text": [
      "Fault data date/time from DateTime: 2014-05-14 14:39:44\n",
      "Fault data date/time from Timestamp: 2014-05-14 20:39:44\n"
     ]
    }
   ],
   "source": [
    "from datetime import datetime\n",
    "\n",
    "print(\"Fault data date/time from DateTime:\", fault_data.index[0])\n",
    "print(\"Fault data date/time from Timestamp:\", datetime.fromtimestamp(fault_data[\"Time\"][0]))"
   ]
  },
  {
   "cell_type": "markdown",
   "id": "9f7c12a5",
   "metadata": {},
   "source": [
    "#### Observation\n",
    "\n",
    "In both the fault and SCADA datasets it seems that the recorded datetime values are lagging 6 hours behind the recorded timestamp, and the status data contains the lagging datetime values. Because the timestamps records seems more accurate between the fault and SCADA datasets will using them as indexes, and we will have to change the status data timestamps later on."
   ]
  },
  {
   "cell_type": "code",
   "execution_count": 10,
   "id": "063c722c",
   "metadata": {},
   "outputs": [],
   "source": [
    "# change the indexes using \"TIME\" timestamps\n",
    "# convert to readable datetimes\n",
    "fault_data.index = fault_data.Time.apply(lambda x: datetime.fromtimestamp(x))\n",
    "fault_data = fault_data.drop([\"Time\"], axis=1)\n",
    "\n",
    "scada_data.index = scada_data.Time.apply(lambda x: datetime.fromtimestamp(x))\n",
    "scada_data = scada_data.drop([\"Time\"], axis=1)"
   ]
  },
  {
   "cell_type": "code",
   "execution_count": 11,
   "id": "e7e1cc8d",
   "metadata": {},
   "outputs": [
    {
     "name": "stdout",
     "output_type": "stream",
     "text": [
      "Missing values in Fault data: 0\n",
      "Missing values in SCADA data: 0\n",
      "Missing values in Status data: 0\n"
     ]
    }
   ],
   "source": [
    "# Check if there are missing values\n",
    "print(\"Missing values in Fault data:\", (fault_data.isna().sum()).sum())\n",
    "print(\"Missing values in SCADA data:\", (scada_data.isna().sum()).sum())\n",
    "print(\"Missing values in Status data:\", (status_data.isna().sum()).sum())"
   ]
  },
  {
   "cell_type": "code",
   "execution_count": 12,
   "id": "8521b3fa",
   "metadata": {},
   "outputs": [
    {
     "data": {
      "image/png": "[encoded data removed]",
      "text/plain": [
       "<Figure size 640x480 with 1 Axes>"
      ]
     },
     "metadata": {},
     "output_type": "display_data"
    }
   ],
   "source": [
    "# Check fault classes distribution\n",
    "_ = fault_data[\"Fault\"].value_counts().plot(kind=\"pie\", autopct='%1.1f%%')"
   ]
  },
  {
   "cell_type": "markdown",
   "id": "0b8a7fe0",
   "metadata": {},
   "source": [
    "#### Observation\n",
    "\n",
    "Our data reveals five fault types, with \"EF\" and \"FF\" being more prevalent. This suggests that these fault types are likely the most frequently occurring in wind turbines. On the other hand, \"MF,\" \"GF,\" and \"AF\" faults are less prominent, indicating they may be rare or associated with critical failures in wind turbines, occurring only in extreme situations."
   ]
  },
  {
   "cell_type": "code",
   "execution_count": 13,
   "id": "a449c6e0",
   "metadata": {},
   "outputs": [
    {
     "name": "stdout",
     "output_type": "stream",
     "text": [
      "Duplicated datetimes in Fault data: 107\n",
      "Duplicated datetimes in SCADA data: 6\n",
      "Duplicated datetimes in Status data: 34\n"
     ]
    }
   ],
   "source": [
    "#Check for duplicated datetimes\n",
    "print(\"Duplicated datetimes in Fault data:\", (fault_data.index.duplicated()).sum())\n",
    "print(\"Duplicated datetimes in SCADA data:\", (scada_data.index.duplicated()).sum())\n",
    "print(\"Duplicated datetimes in Status data:\", (status_data.index.duplicated()).sum())"
   ]
  },
  {
   "cell_type": "markdown",
   "id": "979cd130",
   "metadata": {},
   "source": [
    "#### Observation\n",
    "\n",
    "We observe duplicates in all our datasets, but it's important to note that they carry different significance. In the SCADA data, duplicated records can be easily eliminated. However, in the status and fault data, duplicated datetime records indicate instances when two or more fault types occur simultaneously in the wind turbine. These occurrences are crucial for our study.\n",
    "\n",
    "To address datetime instances with multiple fault types, we will implement one-hot encoding for each fault type at a given datetime."
   ]
  },
  {
   "cell_type": "code",
   "execution_count": 14,
   "id": "21e4a668",
   "metadata": {},
   "outputs": [],
   "source": [
    "# drop duplicated instances in SCADA data\n",
    "scada_data = scada_data[~scada_data.index.duplicated()]"
   ]
  },
  {
   "cell_type": "markdown",
   "id": "1e32c6c0",
   "metadata": {},
   "source": [
    "### Handle multiple faults occurances"
   ]
  },
  {
   "cell_type": "code",
   "execution_count": 15,
   "id": "a26333bb",
   "metadata": {},
   "outputs": [
    {
     "data": {
      "text/html": [
       "<div>\n",
       "<style scoped>\n",
       "    .dataframe tbody tr th:only-of-type {\n",
       "        vertical-align: middle;\n",
       "    }\n",
       "\n",
       "    .dataframe tbody tr th {\n",
       "        vertical-align: top;\n",
       "    }\n",
       "\n",
       "    .dataframe thead th {\n",
       "        text-align: right;\n",
       "    }\n",
       "</style>\n",
       "<table border=\"1\" class=\"dataframe\">\n",
       "  <thead>\n",
       "    <tr style=\"text-align: right;\">\n",
       "      <th></th>\n",
       "      <th>AF</th>\n",
       "      <th>EF</th>\n",
       "      <th>FF</th>\n",
       "      <th>GF</th>\n",
       "      <th>MF</th>\n",
       "    </tr>\n",
       "    <tr>\n",
       "      <th>Time</th>\n",
       "      <th></th>\n",
       "      <th></th>\n",
       "      <th></th>\n",
       "      <th></th>\n",
       "      <th></th>\n",
       "    </tr>\n",
       "  </thead>\n",
       "  <tbody>\n",
       "    <tr>\n",
       "      <th>2014-05-14 20:39:44</th>\n",
       "      <td>0</td>\n",
       "      <td>0</td>\n",
       "      <td>0</td>\n",
       "      <td>1</td>\n",
       "      <td>0</td>\n",
       "    </tr>\n",
       "    <tr>\n",
       "      <th>2014-05-14 20:50:24</th>\n",
       "      <td>0</td>\n",
       "      <td>0</td>\n",
       "      <td>0</td>\n",
       "      <td>1</td>\n",
       "      <td>0</td>\n",
       "    </tr>\n",
       "    <tr>\n",
       "      <th>2014-05-14 20:58:56</th>\n",
       "      <td>0</td>\n",
       "      <td>0</td>\n",
       "      <td>0</td>\n",
       "      <td>1</td>\n",
       "      <td>0</td>\n",
       "    </tr>\n",
       "    <tr>\n",
       "      <th>2014-05-14 21:09:36</th>\n",
       "      <td>0</td>\n",
       "      <td>0</td>\n",
       "      <td>0</td>\n",
       "      <td>1</td>\n",
       "      <td>0</td>\n",
       "    </tr>\n",
       "    <tr>\n",
       "      <th>2014-05-14 21:20:16</th>\n",
       "      <td>0</td>\n",
       "      <td>0</td>\n",
       "      <td>0</td>\n",
       "      <td>1</td>\n",
       "      <td>0</td>\n",
       "    </tr>\n",
       "  </tbody>\n",
       "</table>\n",
       "</div>"
      ],
      "text/plain": [
       "                     AF  EF  FF  GF  MF\n",
       "Time                                   \n",
       "2014-05-14 20:39:44   0   0   0   1   0\n",
       "2014-05-14 20:50:24   0   0   0   1   0\n",
       "2014-05-14 20:58:56   0   0   0   1   0\n",
       "2014-05-14 21:09:36   0   0   0   1   0\n",
       "2014-05-14 21:20:16   0   0   0   1   0"
      ]
     },
     "execution_count": 15,
     "metadata": {},
     "output_type": "execute_result"
    }
   ],
   "source": [
    "faults = fault_data.groupby(fault_data.index)['Fault'].apply(lambda x: ','.join(x.astype(str)))\n",
    "fault_classes = faults.str.get_dummies(sep=',')\n",
    "fault_classes.set_index(faults.index)\n",
    "fault_classes.head()"
   ]
  },
  {
   "cell_type": "code",
   "execution_count": 16,
   "id": "4e8da520",
   "metadata": {},
   "outputs": [
    {
     "data": {
      "text/plain": [
       "00100    159\n",
       "01100     95\n",
       "01000     79\n",
       "10000     50\n",
       "00010     43\n",
       "10001     12\n",
       "00001      8\n",
       "Name: count, dtype: int64"
      ]
     },
     "execution_count": 16,
     "metadata": {},
     "output_type": "execute_result"
    }
   ],
   "source": [
    "# check which fault can occurs at the\n",
    "fault_classes.apply(lambda x: f'{x[\"AF\"]}{x[\"EF\"]}{x[\"FF\"]}{x[\"GF\"]}{x[\"MF\"]}', axis=1).value_counts()"
   ]
  },
  {
   "cell_type": "markdown",
   "id": "ec64b759",
   "metadata": {},
   "source": [
    "#### Observation\n",
    "\n",
    "We observe occurrences where both \"EF\" and \"FF\" faults happen simultaneously in the wind turbine, as well as instances when \"AF\" and \"MF\" faults can occur simultaneously."
   ]
  },
  {
   "cell_type": "code",
   "execution_count": 17,
   "id": "e21eee40",
   "metadata": {},
   "outputs": [],
   "source": [
    "# we consider that all instances not present in fault are normal working conditions\n",
    "fault_classes = fault_classes.reindex(scada_data.index, fill_value=0)"
   ]
  },
  {
   "cell_type": "code",
   "execution_count": 18,
   "id": "13289268",
   "metadata": {},
   "outputs": [
    {
     "data": {
      "text/plain": [
       "00000    99.090186\n",
       "00100     0.324351\n",
       "01100     0.193794\n",
       "01000     0.161155\n",
       "10000     0.101997\n",
       "00010     0.087718\n",
       "10001     0.024479\n",
       "00001     0.016320\n",
       "Name: proportion, dtype: float64"
      ]
     },
     "execution_count": 18,
     "metadata": {},
     "output_type": "execute_result"
    }
   ],
   "source": [
    "# check which fault can occurs at the\n",
    "faults_dist = fault_classes.apply(lambda x: f'{x[\"AF\"]}{x[\"EF\"]}{x[\"FF\"]}{x[\"GF\"]}{x[\"MF\"]}', axis=1).value_counts(normalize=True)\n",
    "faults_dist * 100"
   ]
  },
  {
   "cell_type": "markdown",
   "id": "5388d105",
   "metadata": {},
   "source": [
    "#### Observation\n",
    "\n",
    "We see now that the fault classes are highly imbalanced as the non fault class represent 99% of the data, seo for performing a classification task we will have to take a smaller sample for the non fault class."
   ]
  },
  {
   "cell_type": "markdown",
   "id": "ee138027",
   "metadata": {},
   "source": [
    "### Fault logs from status data\n",
    "\n",
    "The status data contains the logs recorded during the wind turbine operations which inlude both normal working condition and when a failure occurs, we could considere adding those logs features to our global dataset but for the moment we will only work with fault and SCADA data."
   ]
  },
  {
   "cell_type": "markdown",
   "id": "03c89270",
   "metadata": {},
   "source": [
    "## Exploratory data analysis"
   ]
  },
  {
   "cell_type": "code",
   "execution_count": 19,
   "id": "9eace35c",
   "metadata": {},
   "outputs": [],
   "source": [
    "# combine fault data with scada data\n",
    "combined_data = scada_data.merge(fault_classes, on=\"Time\", how=\"left\")"
   ]
  },
  {
   "cell_type": "code",
   "execution_count": 20,
   "id": "164187fe",
   "metadata": {},
   "outputs": [
    {
     "data": {
      "text/plain": [
       "Index(['Error', 'WEC: ava. windspeed', 'WEC: max. windspeed',\n",
       "       'WEC: min. windspeed', 'WEC: ava. Rotation', 'WEC: max. Rotation',\n",
       "       'WEC: min. Rotation', 'WEC: ava. Power', 'WEC: max. Power',\n",
       "       'WEC: min. Power', 'WEC: ava. Nacel position including cable twisting',\n",
       "       'WEC: Operating Hours', 'WEC: Production kWh',\n",
       "       'WEC: Production minutes', 'WEC: ava. reactive Power',\n",
       "       'WEC: max. reactive Power', 'WEC: min. reactive Power',\n",
       "       'WEC: ava. available P from wind',\n",
       "       'WEC: ava. available P technical reasons',\n",
       "       'WEC: ava. Available P force majeure reasons',\n",
       "       'WEC: ava. Available P force external reasons',\n",
       "       'WEC: ava. blade angle A', 'Sys 1 inverter 1 cabinet temp.',\n",
       "       'Sys 1 inverter 2 cabinet temp.', 'Sys 1 inverter 3 cabinet temp.',\n",
       "       'Sys 1 inverter 4 cabinet temp.', 'Sys 1 inverter 5 cabinet temp.',\n",
       "       'Sys 1 inverter 6 cabinet temp.', 'Sys 1 inverter 7 cabinet temp.',\n",
       "       'Sys 2 inverter 1 cabinet temp.', 'Sys 2 inverter 2 cabinet temp.',\n",
       "       'Sys 2 inverter 3 cabinet temp.', 'Sys 2 inverter 4 cabinet temp.',\n",
       "       'Sys 2 inverter 5 cabinet temp.', 'Sys 2 inverter 6 cabinet temp.',\n",
       "       'Sys 2 inverter 7 cabinet temp.', 'Spinner temp.',\n",
       "       'Front bearing temp.', 'Rear bearing temp.',\n",
       "       'Pitch cabinet blade A temp.', 'Pitch cabinet blade B temp.',\n",
       "       'Pitch cabinet blade C temp.', 'Blade A temp.', 'Blade B temp.',\n",
       "       'Blade C temp.', 'Rotor temp. 1', 'Rotor temp. 2', 'Stator temp. 1',\n",
       "       'Stator temp. 2', 'Nacelle ambient temp. 1', 'Nacelle ambient temp. 2',\n",
       "       'Nacelle temp.', 'Nacelle cabinet temp.', 'Main carrier temp.',\n",
       "       'Rectifier cabinet temp.', 'Yaw inverter cabinet temp.',\n",
       "       'Fan inverter cabinet temp.', 'Ambient temp.', 'Tower temp.',\n",
       "       'Control cabinet temp.', 'Transformer temp.', 'RTU: ava. Setpoint 1',\n",
       "       'Inverter averages', 'Inverter std dev', 'AF', 'EF', 'FF', 'GF', 'MF'],\n",
       "      dtype='object')"
      ]
     },
     "execution_count": 20,
     "metadata": {},
     "output_type": "execute_result"
    }
   ],
   "source": [
    "combined_data.columns"
   ]
  },
  {
   "cell_type": "code",
   "execution_count": null,
   "id": "7eb68061",
   "metadata": {},
   "outputs": [],
   "source": []
  }
 ],
 "metadata": {
  "kernelspec": {
   "display_name": "Python 3 (ipykernel)",
   "language": "python",
   "name": "python3"
  },
  "language_info": {
   "codemirror_mode": {
    "name": "ipython",
    "version": 3
   },
   "file_extension": ".py",
   "mimetype": "text/x-python",
   "name": "python",
   "nbconvert_exporter": "python",
   "pygments_lexer": "ipython3",
   "version": "3.9.6"
  }
 },
 "nbformat": 4,
 "nbformat_minor": 5
}
